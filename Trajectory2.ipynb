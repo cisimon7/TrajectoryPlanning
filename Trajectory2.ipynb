{
 "cells": [
  {
   "cell_type": "code",
   "execution_count": 1,
   "metadata": {
    "collapsed": true
   },
   "outputs": [],
   "source": [
    "from utils import *\n",
    "from sympy import symbols, lambdify, init_printing\n",
    "import numpy as np\n",
    "import matplotlib.pyplot as plt\n",
    "init_printing(use_unicode=True)"
   ]
  },
  {
   "cell_type": "code",
   "execution_count": 51,
   "outputs": [],
   "source": [
    "def q_start(qo, qdd, t):\n",
    "    return qo + 0.5*qdd*t**2\n",
    "\n",
    "def q_const(qo, qdd, ta, t):\n",
    "    return qo + qdd*ta*(t - 0.5*ta)\n",
    "\n",
    "def q_end(qf, qdd, tf, t):\n",
    "    return qf - 0.5*qdd*(tf -t)**2\n",
    "\n",
    "def q(qo, qf, qdd, ta, tf, points):\n",
    "    f = []\n",
    "    for t in points:\n",
    "        if t<= ta:\n",
    "            f.append(q_start(qo, qdd, t))\n",
    "        elif t<= tf-ta:\n",
    "            f.append(q_const(qo, qdd, ta, t))\n",
    "        else :\n",
    "            f.append(q_end(qf, qdd, tf, t))\n",
    "    return f"
   ],
   "metadata": {
    "collapsed": false,
    "pycharm": {
     "name": "#%%\n"
    }
   }
  },
  {
   "cell_type": "code",
   "execution_count": null,
   "outputs": [],
   "source": [
    "def qd_start(qdd, t):\n",
    "    return qdd*t\n",
    "\n",
    "def qd_const(qdd, ta):\n",
    "    return qdd*ta\n",
    "\n",
    "def qd_end(qdd, tf, t):\n",
    "    return qdd*(tf -t)\n",
    "\n",
    "def qd(qo, qf, qdd, ta, tf, points):\n",
    "    f = []\n",
    "    for t in points:\n",
    "        if t<= ta:\n",
    "            f.append(qd_start(qdd, t))\n",
    "        elif t<= tf-ta:\n",
    "            f.append(qd_const(qdd, ta))\n",
    "        else :\n",
    "            f.append(qd_end(qdd, tf, t))\n",
    "    return f"
   ],
   "metadata": {
    "collapsed": false,
    "pycharm": {
     "name": "#%%\n"
    }
   }
  },
  {
   "cell_type": "code",
   "execution_count": 63,
   "outputs": [],
   "source": [
    "def qdd_start(qdd):\n",
    "    return qdd\n",
    "\n",
    "def qdd_const():\n",
    "    return 0\n",
    "\n",
    "def qdd_end(qdd):\n",
    "    return -qdd\n",
    "\n",
    "def qdd(qo, qf, qdd, ta, tf, points):\n",
    "    f = []\n",
    "    for t in points:\n",
    "        if t<= ta:\n",
    "            f.append(qdd_start(qdd))\n",
    "        elif t<= tf-ta:\n",
    "            f.append(qdd_const())\n",
    "        else :\n",
    "            f.append(qdd_end(qdd))\n",
    "    return f"
   ],
   "metadata": {
    "collapsed": false,
    "pycharm": {
     "name": "#%%\n"
    }
   }
  },
  {
   "cell_type": "markdown",
   "source": [
    "Calculation of Time for the 3 joints"
   ],
   "metadata": {
    "collapsed": false,
    "pycharm": {
     "name": "#%% md\n"
    }
   }
  },
  {
   "cell_type": "code",
   "execution_count": 69,
   "outputs": [],
   "source": [
    "# For Joint 1\n",
    "# From control frequency we calculate the change in t as\n",
    "dt = 1/100\n",
    "\n",
    "# calculation of t1: time it takes to get to constant velocity\n",
    "# gotten by dividing v_lim by a_lim\n",
    "ta = 1/10\n",
    "\n",
    "# calculation of tt: time it takes from rest to point before deceleration\n",
    "# gotten by dividing change in q by v_lim\n",
    "tt = 2/1\n",
    "\n",
    "# calculation of tf: total time of motion\n",
    "tf = tt + ta"
   ],
   "metadata": {
    "collapsed": false,
    "pycharm": {
     "name": "#%%\n"
    }
   }
  },
  {
   "cell_type": "code",
   "execution_count": 70,
   "outputs": [],
   "source": [
    "# For Joint 2\n",
    "# From control frequency we calculate the change in t as\n",
    "dt2 = 1/100\n",
    "\n",
    "# calculation of t1: time it takes to get to constant velocity\n",
    "# gotten by dividing v_lim by a_lim\n",
    "ta2 = 1/10\n",
    "\n",
    "# calculation of tt: time it takes from rest to point before deceleration\n",
    "# gotten by dividing change in q by v_lim\n",
    "tt2 = 3/1\n",
    "\n",
    "# calculation of tf: total time of motion\n",
    "tf2 = tt2 + ta2"
   ],
   "metadata": {
    "collapsed": false,
    "pycharm": {
     "name": "#%%\n"
    }
   }
  },
  {
   "cell_type": "code",
   "execution_count": 71,
   "outputs": [],
   "source": [
    "# For Joint 3\n",
    "# From control frequency we calculate the change in t as\n",
    "dt3 = 1/100\n",
    "\n",
    "# calculation of t1: time it takes to get to constant velocity\n",
    "# gotten by dividing v_lim by a_lim\n",
    "ta3 = 1/10\n",
    "\n",
    "# calculation of tt: time it takes from rest to point before deceleration\n",
    "# gotten by dividing change in q by v_lim\n",
    "tt3 = 4/1\n",
    "\n",
    "# calculation of tf: total time of motion\n",
    "tf3 = tt3 + ta3"
   ],
   "metadata": {
    "collapsed": false,
    "pycharm": {
     "name": "#%%\n"
    }
   }
  },
  {
   "cell_type": "markdown",
   "source": [
    "Creating of points for the plot"
   ],
   "metadata": {
    "collapsed": false,
    "pycharm": {
     "name": "#%% md\n"
    }
   }
  },
  {
   "cell_type": "code",
   "execution_count": null,
   "outputs": [],
   "source": [
    "# For Joint 1\n",
    "t1 = np.arange(0.0, tf, 0.001)\n",
    "\n",
    "# For Joint 2\n",
    "t2 = np.arange(0.0, tf2, 0.001)\n",
    "\n",
    "# For Joint 3\n",
    "t3 = np.arange(0.0, tf3, 0.001)\n",
    "\n",
    "plt.xlabel('time')\n",
    "\n",
    "plt.show()"
   ],
   "metadata": {
    "collapsed": false,
    "pycharm": {
     "name": "#%%\n"
    }
   }
  },
  {
   "cell_type": "markdown",
   "source": [
    "Plot of Position-Time Graph"
   ],
   "metadata": {
    "collapsed": false,
    "pycharm": {
     "name": "#%% md\n"
    }
   }
  },
  {
   "cell_type": "code",
   "execution_count": 78,
   "outputs": [
    {
     "data": {
      "text/plain": "<Figure size 432x288 with 1 Axes>",
      "image/png": "[encoded data removed]"
     },
     "metadata": {
      "needs_background": "light"
     },
     "output_type": "display_data"
    }
   ],
   "source": [
    "\n",
    "plt.plot(t1, q(0, 2, 10, ta, tf, t1), 'k')\n",
    "plt.plot(t2, q(0, 3, 10, ta2, tf2, t2), 'b')\n",
    "plt.plot(t3, q(0, 4, 10, ta3, tf3, t3), 'r')\n",
    "plt.xlabel('time')\n",
    "plt.ylabel('Position')\n",
    "\n",
    "plt.show()"
   ],
   "metadata": {
    "collapsed": false,
    "pycharm": {
     "name": "#%%\n"
    }
   }
  },
  {
   "cell_type": "code",
   "execution_count": 77,
   "outputs": [
    {
     "data": {
      "text/plain": "<Figure size 432x288 with 1 Axes>",
      "image/png": "[encoded data removed]"
     },
     "metadata": {
      "needs_background": "light"
     },
     "output_type": "display_data"
    }
   ],
   "source": [
    "plt.plot(t1, qd(0, 2, 10, ta, tf, t1), 'k')\n",
    "plt.plot(t2, qd(0, 3, 10, ta2, tf2, t2), 'b')\n",
    "plt.plot(t3, qd(0, 4, 10, ta3, tf3, t3), 'r')\n",
    "\n",
    "plt.show()"
   ],
   "metadata": {
    "collapsed": false,
    "pycharm": {
     "name": "#%%\n"
    }
   }
  },
  {
   "cell_type": "code",
   "execution_count": 74,
   "outputs": [
    {
     "data": {
      "text/plain": "[<matplotlib.lines.Line2D at 0x13a3b011ec8>]"
     },
     "execution_count": 74,
     "metadata": {},
     "output_type": "execute_result"
    },
    {
     "data": {
      "text/plain": "<Figure size 432x288 with 1 Axes>",
      "image/png": "[encoded data removed]"
     },
     "metadata": {
      "needs_background": "light"
     },
     "output_type": "display_data"
    }
   ],
   "source": [
    "plt.plot(t1, qdd(0, 2, 10, ta, tf, t1), 'k')\n",
    "plt.plot(t2, qdd(0, 3, 10, ta2, tf2, t2), 'b')\n",
    "plt.plot(t3, qdd(0, 4, 10, ta3, tf3, t3), 'r')\n",
    "\n",
    "plt.show()"
   ],
   "metadata": {
    "collapsed": false,
    "pycharm": {
     "name": "#%%\n"
    }
   }
  },
  {
   "cell_type": "code",
   "execution_count": null,
   "outputs": [],
   "source": [],
   "metadata": {
    "collapsed": false,
    "pycharm": {
     "name": "#%%\n"
    }
   }
  }
 ],
 "metadata": {
  "kernelspec": {
   "display_name": "Python 3",
   "language": "python",
   "name": "python3"
  },
  "language_info": {
   "codemirror_mode": {
    "name": "ipython",
    "version": 2
   },
   "file_extension": ".py",
   "mimetype": "text/x-python",
   "name": "python",
   "nbconvert_exporter": "python",
   "pygments_lexer": "ipython2",
   "version": "2.7.6"
  }
 },
 "nbformat": 4,
 "nbformat_minor": 0
}