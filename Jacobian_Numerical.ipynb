{
 "cells": [
  {
   "cell_type": "code",
   "execution_count": 2,
   "metadata": {
    "collapsed": true
   },
   "outputs": [],
   "source": [
    "from utils import *\n",
    "from sympy import symbols, trigsimp, lambdify, diff, init_printing\n",
    "init_printing(use_unicode=True)"
   ]
  },
  {
   "cell_type": "code",
   "execution_count": 3,
   "outputs": [],
   "source": [
    "# Joint parameters declaration\n",
    "q1, q2, q3 = symbols(\"q1 q2 q3\", real=True)"
   ],
   "metadata": {
    "collapsed": false,
    "pycharm": {
     "name": "#%%\n"
    }
   }
  },
  {
   "cell_type": "code",
   "execution_count": 4,
   "outputs": [
    {
     "data": {
      "text/plain": "⎡cos(q₁)  -sin(q₁)⋅cos(q₂ + q₃)  sin(q₁)⋅sin(q₂ + q₃)   -(cos(q₂) + cos(q₂ + q\n⎢                                                                             \n⎢sin(q₁)  cos(q₁)⋅cos(q₂ + q₃)   -sin(q₂ + q₃)⋅cos(q₁)  (cos(q₂) + cos(q₂ + q₃\n⎢                                                                             \n⎢   0         sin(q₂ + q₃)           cos(q₂ + q₃)          sin(q₂) + sin(q₂ + \n⎢                                                                             \n⎣   0               0                      0                            1     \n\n₃))⋅sin(q₁)⎤\n           ⎥\n))⋅cos(q₁) ⎥\n           ⎥\nq₃) + 1    ⎥\n           ⎥\n           ⎦",
      "text/latex": "$\\displaystyle \\left[\\begin{matrix}\\cos{\\left(q_{1} \\right)} & - \\sin{\\left(q_{1} \\right)} \\cos{\\left(q_{2} + q_{3} \\right)} & \\sin{\\left(q_{1} \\right)} \\sin{\\left(q_{2} + q_{3} \\right)} & - \\left(\\cos{\\left(q_{2} \\right)} + \\cos{\\left(q_{2} + q_{3} \\right)}\\right) \\sin{\\left(q_{1} \\right)}\\\\\\sin{\\left(q_{1} \\right)} & \\cos{\\left(q_{1} \\right)} \\cos{\\left(q_{2} + q_{3} \\right)} & - \\sin{\\left(q_{2} + q_{3} \\right)} \\cos{\\left(q_{1} \\right)} & \\left(\\cos{\\left(q_{2} \\right)} + \\cos{\\left(q_{2} + q_{3} \\right)}\\right) \\cos{\\left(q_{1} \\right)}\\\\0 & \\sin{\\left(q_{2} + q_{3} \\right)} & \\cos{\\left(q_{2} + q_{3} \\right)} & \\sin{\\left(q_{2} \\right)} + \\sin{\\left(q_{2} + q_{3} \\right)} + 1\\\\0 & 0 & 0 & 1\\end{matrix}\\right]$"
     },
     "execution_count": 4,
     "metadata": {},
     "output_type": "execute_result"
    }
   ],
   "source": [
    "# Forward Kinematics\n",
    "H = Rz(q1)*Tz(1)*Rx(q2)*Ty(1)*Rx(q3)*Ty(1)\n",
    "H = trigsimp(H)\n",
    "H"
   ],
   "metadata": {
    "collapsed": false,
    "pycharm": {
     "name": "#%%\n"
    }
   }
  },
  {
   "cell_type": "code",
   "execution_count": 5,
   "outputs": [
    {
     "data": {
      "text/plain": "⎡cos(q₁)  -sin(q₁)⋅cos(q₂ + q₃)  sin(q₁)⋅sin(q₂ + q₃) ⎤\n⎢                                                     ⎥\n⎢sin(q₁)  cos(q₁)⋅cos(q₂ + q₃)   -sin(q₂ + q₃)⋅cos(q₁)⎥\n⎢                                                     ⎥\n⎣   0         sin(q₂ + q₃)           cos(q₂ + q₃)     ⎦",
      "text/latex": "$\\displaystyle \\left[\\begin{matrix}\\cos{\\left(q_{1} \\right)} & - \\sin{\\left(q_{1} \\right)} \\cos{\\left(q_{2} + q_{3} \\right)} & \\sin{\\left(q_{1} \\right)} \\sin{\\left(q_{2} + q_{3} \\right)}\\\\\\sin{\\left(q_{1} \\right)} & \\cos{\\left(q_{1} \\right)} \\cos{\\left(q_{2} + q_{3} \\right)} & - \\sin{\\left(q_{2} + q_{3} \\right)} \\cos{\\left(q_{1} \\right)}\\\\0 & \\sin{\\left(q_{2} + q_{3} \\right)} & \\cos{\\left(q_{2} + q_{3} \\right)}\\end{matrix}\\right]$"
     },
     "execution_count": 5,
     "metadata": {},
     "output_type": "execute_result"
    }
   ],
   "source": [
    "# General Rotation Matrix\n",
    "R = H[0:3, :-1]\n",
    "R"
   ],
   "metadata": {
    "collapsed": false,
    "pycharm": {
     "name": "#%%\n"
    }
   }
  },
  {
   "cell_type": "code",
   "execution_count": 6,
   "outputs": [
    {
     "data": {
      "text/plain": "⎡-(cos(q₂) + cos(q₂ + q₃))⋅sin(q₁)⎤\n⎢                                 ⎥\n⎢(cos(q₂) + cos(q₂ + q₃))⋅cos(q₁) ⎥\n⎢                                 ⎥\n⎣   sin(q₂) + sin(q₂ + q₃) + 1    ⎦",
      "text/latex": "$\\displaystyle \\left[\\begin{matrix}- \\left(\\cos{\\left(q_{2} \\right)} + \\cos{\\left(q_{2} + q_{3} \\right)}\\right) \\sin{\\left(q_{1} \\right)}\\\\\\left(\\cos{\\left(q_{2} \\right)} + \\cos{\\left(q_{2} + q_{3} \\right)}\\right) \\cos{\\left(q_{1} \\right)}\\\\\\sin{\\left(q_{2} \\right)} + \\sin{\\left(q_{2} + q_{3} \\right)} + 1\\end{matrix}\\right]$"
     },
     "execution_count": 6,
     "metadata": {},
     "output_type": "execute_result"
    }
   ],
   "source": [
    "# General Translational Matrix\n",
    "T = H[0:3, -1]\n",
    "T"
   ],
   "metadata": {
    "collapsed": false,
    "pycharm": {
     "name": "#%%\n"
    }
   }
  },
  {
   "cell_type": "code",
   "execution_count": 7,
   "outputs": [
    {
     "data": {
      "text/plain": "⎡-(cos(q₂) + cos(q₂ + q₃))⋅cos(q₁)  (sin(q₂) + sin(q₂ + q₃))⋅sin(q₁)   sin(q₁)\n⎢                                                                             \n⎢-(cos(q₂) + cos(q₂ + q₃))⋅sin(q₁)  -(sin(q₂) + sin(q₂ + q₃))⋅cos(q₁)  -sin(q₂\n⎢                                                                             \n⎢                0                       cos(q₂) + cos(q₂ + q₃)            cos\n⎢                                                                             \n⎢                0                               cos(q₁)                      \n⎢                                                                             \n⎢                0                               sin(q₁)                      \n⎢                                                                             \n⎣                1                                  0                         \n\n⋅sin(q₂ + q₃) ⎤\n              ⎥\n + q₃)⋅cos(q₁)⎥\n              ⎥\n(q₂ + q₃)     ⎥\n              ⎥\ncos(q₁)       ⎥\n              ⎥\nsin(q₁)       ⎥\n              ⎥\n   0          ⎦",
      "text/latex": "$\\displaystyle \\left[\\begin{matrix}- \\left(\\cos{\\left(q_{2} \\right)} + \\cos{\\left(q_{2} + q_{3} \\right)}\\right) \\cos{\\left(q_{1} \\right)} & \\left(\\sin{\\left(q_{2} \\right)} + \\sin{\\left(q_{2} + q_{3} \\right)}\\right) \\sin{\\left(q_{1} \\right)} & \\sin{\\left(q_{1} \\right)} \\sin{\\left(q_{2} + q_{3} \\right)}\\\\- \\left(\\cos{\\left(q_{2} \\right)} + \\cos{\\left(q_{2} + q_{3} \\right)}\\right) \\sin{\\left(q_{1} \\right)} & - \\left(\\sin{\\left(q_{2} \\right)} + \\sin{\\left(q_{2} + q_{3} \\right)}\\right) \\cos{\\left(q_{1} \\right)} & - \\sin{\\left(q_{2} + q_{3} \\right)} \\cos{\\left(q_{1} \\right)}\\\\0 & \\cos{\\left(q_{2} \\right)} + \\cos{\\left(q_{2} + q_{3} \\right)} & \\cos{\\left(q_{2} + q_{3} \\right)}\\\\0 & \\cos{\\left(q_{1} \\right)} & \\cos{\\left(q_{1} \\right)}\\\\0 & \\sin{\\left(q_{1} \\right)} & \\sin{\\left(q_{1} \\right)}\\\\1 & 0 & 0\\end{matrix}\\right]$"
     },
     "execution_count": 7,
     "metadata": {},
     "output_type": "execute_result"
    }
   ],
   "source": [
    "# Calculating Jacobian Matrix\n",
    "Jaco = Matrix([])\n",
    "\n",
    "var = [q1, q2, q3]\n",
    "for j in var:\n",
    "    HD = trigsimp(diff(H, j))\n",
    "\n",
    "    T1 = HD[0:3, -1]\n",
    "\n",
    "    RD = HD[0:3, :-1]\n",
    "    RW = trigsimp(RD*R.T)\n",
    "\n",
    "    J = T1.row_insert(3, Matrix([RW[2,1], RW[0,2], RW[1,0]]))\n",
    "\n",
    "    Jaco = Jaco.col_insert(len(Jaco), J)\n",
    "\n",
    "Jaco"
   ],
   "metadata": {
    "collapsed": false,
    "pycharm": {
     "name": "#%%\n"
    }
   }
  },
  {
   "cell_type": "code",
   "execution_count": null,
   "outputs": [],
   "source": [],
   "metadata": {
    "collapsed": false,
    "pycharm": {
     "name": "#%%\n"
    }
   }
  }
 ],
 "metadata": {
  "kernelspec": {
   "display_name": "Python 3",
   "language": "python",
   "name": "python3"
  },
  "language_info": {
   "codemirror_mode": {
    "name": "ipython",
    "version": 2
   },
   "file_extension": ".py",
   "mimetype": "text/x-python",
   "name": "python",
   "nbconvert_exporter": "python",
   "pygments_lexer": "ipython2",
   "version": "2.7.6"
  }
 },
 "nbformat": 4,
 "nbformat_minor": 0
}