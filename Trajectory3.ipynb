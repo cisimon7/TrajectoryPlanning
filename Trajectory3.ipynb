{
 "cells": [
  {
   "cell_type": "code",
   "execution_count": 1,
   "metadata": {
    "collapsed": true
   },
   "outputs": [],
   "source": [
    "\n",
    "from utils import *\n",
    "from sympy import symbols, lambdify, init_printing, sqrt, simplify\n",
    "import numpy as np\n",
    "import matplotlib.pyplot as plt\n",
    "init_printing(use_unicode=True)"
   ]
  },
  {
   "cell_type": "markdown",
   "source": [
    "### A Linear Cartesian Path"
   ],
   "metadata": {
    "collapsed": false,
    "pycharm": {
     "name": "#%% md\n"
    }
   }
  },
  {
   "cell_type": "code",
   "execution_count": 2,
   "outputs": [
    {
     "data": {
      "text/plain": "⎡     √2⎤\n⎢-1 + ──⎥\n⎢     2 ⎥\n⎢       ⎥\n⎢  √2   ⎥\n⎢  ──   ⎥\n⎢  2    ⎥\n⎢       ⎥\n⎣  0.2  ⎦",
      "text/latex": "$\\displaystyle \\left[\\begin{matrix}-1 + \\frac{\\sqrt{2}}{2}\\\\\\frac{\\sqrt{2}}{2}\\\\0.2\\end{matrix}\\right]$"
     },
     "execution_count": 2,
     "metadata": {},
     "output_type": "execute_result"
    }
   ],
   "source": [
    "p1 = Matrix([1, 0, 1])\n",
    "p2 = Matrix([sqrt(2)/2, sqrt(2)/2, 1.2])\n",
    "\n",
    "l = p2 - p1\n",
    "l"
   ],
   "metadata": {
    "collapsed": false,
    "pycharm": {
     "name": "#%%\n"
    }
   }
  },
  {
   "cell_type": "code",
   "execution_count": 4,
   "outputs": [
    {
     "data": {
      "text/plain": "0.625786437626905",
      "image/png": "[encoded data removed]",
      "text/latex": "$\\displaystyle 0.625786437626905$"
     },
     "execution_count": 4,
     "metadata": {},
     "output_type": "execute_result"
    }
   ],
   "source": [
    "L = l[0]**2 + l[1]**2 + l[2]**2\n",
    "L = simplify(L).evalf()\n",
    "L"
   ],
   "metadata": {
    "collapsed": false,
    "pycharm": {
     "name": "#%%\n"
    }
   }
  },
  {
   "cell_type": "code",
   "execution_count": 5,
   "outputs": [
    {
     "data": {
      "text/plain": "⎡-0.46804021500395⎤\n⎢                 ⎥\n⎢1.12994903479856 ⎥\n⎢                 ⎥\n⎣0.319597849960501⎦",
      "text/latex": "$\\displaystyle \\left[\\begin{matrix}-0.46804021500395\\\\1.12994903479856\\\\0.319597849960501\\end{matrix}\\right]$"
     },
     "execution_count": 5,
     "metadata": {},
     "output_type": "execute_result"
    }
   ],
   "source": [
    "# Linear Velocity\n",
    "pd = simplify(l/L).evalf()\n",
    "pd"
   ],
   "metadata": {
    "collapsed": false,
    "pycharm": {
     "name": "#%%\n"
    }
   }
  },
  {
   "cell_type": "code",
   "execution_count": 6,
   "outputs": [
    {
     "data": {
      "text/plain": "⎡-0.46804021500395⎤\n⎢                 ⎥\n⎢1.12994903479856 ⎥\n⎢                 ⎥\n⎣0.319597849960501⎦",
      "text/latex": "$\\displaystyle \\left[\\begin{matrix}-0.46804021500395\\\\1.12994903479856\\\\0.319597849960501\\end{matrix}\\right]$"
     },
     "execution_count": 6,
     "metadata": {},
     "output_type": "execute_result"
    }
   ],
   "source": [
    "# Linear Acceleration\n",
    "pdd =simplify(l/L).evalf()\n",
    "pdd"
   ],
   "metadata": {
    "collapsed": false,
    "pycharm": {
     "name": "#%%\n"
    }
   }
  },
  {
   "cell_type": "code",
   "execution_count": null,
   "outputs": [],
   "source": [],
   "metadata": {
    "collapsed": false,
    "pycharm": {
     "name": "#%%\n"
    }
   }
  }
 ],
 "metadata": {
  "kernelspec": {
   "display_name": "Python 3",
   "language": "python",
   "name": "python3"
  },
  "language_info": {
   "codemirror_mode": {
    "name": "ipython",
    "version": 2
   },
   "file_extension": ".py",
   "mimetype": "text/x-python",
   "name": "python",
   "nbconvert_exporter": "python",
   "pygments_lexer": "ipython2",
   "version": "2.7.6"
  }
 },
 "nbformat": 4,
 "nbformat_minor": 0
}